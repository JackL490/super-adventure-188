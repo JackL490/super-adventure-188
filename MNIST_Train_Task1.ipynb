{
  "cells": [
    {
      "cell_type": "markdown",
      "metadata": {
        "id": "view-in-github",
        "colab_type": "text"
      },
      "source": [
        "<a href=\"https://colab.research.google.com/github/JackL490/super-adventure-188/blob/main/MNIST_Train_Task1.ipynb\" target=\"_parent\"><img src=\"https://colab.research.google.com/assets/colab-badge.svg\" alt=\"Open In Colab\"/></a>"
      ]
    },
    {
      "cell_type": "markdown",
      "source": [
        "# Project 2- ECE 188, Spring 2022 - Deadline: June 10th, 2022. Please upload a link to your Github on Gradescope.\n",
        "# Train a Deep Learning model on the MNIST dataset and evaluate it on a test set.\n",
        "\n",
        "The first part in this notebook will take you though the training of the [MNIST Dataset](http://yann.lecun.com/exdb/mnist/) which is a collection of handwritten digits. \n",
        "\n",
        "We will build a Deep Learning based system that can recognise handwritten digits using [Keras](https://keras.io/) and [Tensorflow](https://www.tensorflow.org/). \n",
        "\n",
        "Note that the entire project will be done on a Google Colab. A tutorial to some basic colab instructions can be found [here](https://colab.research.google.com/?utm_source=scs-index#scrollTo=GJBs_flRovLc). \n",
        "\n",
        "Note that all the code needed is provided until Task 1, **you will only have to write code after the task 1 header**"
      ],
      "metadata": {
        "id": "a-utSW-VUF2y"
      }
    },
    {
      "cell_type": "markdown",
      "source": [
        "## Import Necessary Packages\n",
        "\n",
        "We import Keras and Tensorflow to train our network and numpy to work with our data. \n",
        "\n",
        "We also import matplotlib to view our images. "
      ],
      "metadata": {
        "id": "fgnHUBjoUTcy"
      }
    },
    {
      "cell_type": "code",
      "execution_count": 1,
      "metadata": {
        "id": "aDvD8R1TbbOi"
      },
      "outputs": [],
      "source": [
        "import numpy as np\n",
        "import tensorflow as tf\n",
        "from tensorflow import keras\n",
        "from keras import layers\n"
      ]
    },
    {
      "cell_type": "code",
      "source": [
        "import matplotlib as mpl\n",
        "import matplotlib.pyplot as plt\n",
        "\n",
        "mpl.rcParams['figure.figsize'] = (8, 8)\n",
        "mpl.rcParams['axes.grid'] = False\n"
      ],
      "metadata": {
        "id": "OdYVH66MUciD"
      },
      "execution_count": 2,
      "outputs": []
    },
    {
      "cell_type": "markdown",
      "source": [
        "# Load the Data\n",
        "\n",
        "We perform some data preprocessing. Feel free to skip over this and use the train and test data as x_train and x_test"
      ],
      "metadata": {
        "id": "yuFHL78kUez_"
      }
    },
    {
      "cell_type": "code",
      "execution_count": 3,
      "metadata": {
        "id": "2iKGDDuDbhRM",
        "colab": {
          "base_uri": "https://localhost:8080/"
        },
        "outputId": "ee77a76d-0ad7-4a8d-eba8-3dd580d456a7"
      },
      "outputs": [
        {
          "output_type": "stream",
          "name": "stdout",
          "text": [
            "Downloading data from https://storage.googleapis.com/tensorflow/tf-keras-datasets/mnist.npz\n",
            "11493376/11490434 [==============================] - 0s 0us/step\n",
            "11501568/11490434 [==============================] - 0s 0us/step\n",
            "x_train shape: (60000, 28, 28, 1)\n",
            "60000 train samples\n",
            "10000 test samples\n"
          ]
        }
      ],
      "source": [
        "# Model / data parameters\n",
        "num_classes = 10\n",
        "input_shape = (28, 28, 1)\n",
        "\n",
        "# the data, split between train and test sets\n",
        "(x_train, y_train), (x_test, y_test) = keras.datasets.mnist.load_data()\n",
        "\n",
        "# Scale images to the [0, 1] range\n",
        "x_train = x_train.astype(\"float32\") / 255\n",
        "x_test = x_test.astype(\"float32\") / 255\n",
        "# Make sure images have shape (28, 28, 1)\n",
        "x_train = np.expand_dims(x_train, -1)\n",
        "x_test = np.expand_dims(x_test, -1)\n",
        "print(\"x_train shape:\", x_train.shape)\n",
        "print(x_train.shape[0], \"train samples\")\n",
        "print(x_test.shape[0], \"test samples\")\n",
        "\n",
        "\n",
        "# convert class vectors to binary class matrices\n",
        "y_train = keras.utils.to_categorical(y_train, num_classes)\n",
        "y_test = keras.utils.to_categorical(y_test, num_classes)\n"
      ]
    },
    {
      "cell_type": "markdown",
      "source": [
        "## Define a model in keras.\n",
        "\n",
        "\n",
        " We define a simple simple network with 2 hidden layers. One fully connected dense layer with 8 neurons and onr flatten layer that flattens the model into 1D structure which is then fed into a softmax output.\n",
        "\n",
        "This is a barebones keras structure. In task 1 you will be tasked with improving this model. "
      ],
      "metadata": {
        "id": "tEDsgxIcuv0B"
      }
    },
    {
      "cell_type": "code",
      "source": [
        "model = keras.Sequential(\n",
        "    [\n",
        "        keras.Input(shape=input_shape),\n",
        "        layers.Dense(8,activation=\"relu\"),\n",
        "        layers.Flatten(),\n",
        "        layers.Dense(num_classes, activation=\"softmax\"),\n",
        "    ]\n",
        ")\n",
        "\n",
        "model.summary()\n"
      ],
      "metadata": {
        "colab": {
          "base_uri": "https://localhost:8080/"
        },
        "id": "Kb3ONTl8Odrq",
        "outputId": "dc28a6b7-a328-4c69-ee47-9f18c272f2fb"
      },
      "execution_count": 4,
      "outputs": [
        {
          "output_type": "stream",
          "name": "stdout",
          "text": [
            "Model: \"sequential\"\n",
            "_________________________________________________________________\n",
            " Layer (type)                Output Shape              Param #   \n",
            "=================================================================\n",
            " dense (Dense)               (None, 28, 28, 8)         16        \n",
            "                                                                 \n",
            " flatten (Flatten)           (None, 6272)              0         \n",
            "                                                                 \n",
            " dense_1 (Dense)             (None, 10)                62730     \n",
            "                                                                 \n",
            "=================================================================\n",
            "Total params: 62,746\n",
            "Trainable params: 62,746\n",
            "Non-trainable params: 0\n",
            "_________________________________________________________________\n"
          ]
        }
      ]
    },
    {
      "cell_type": "markdown",
      "source": [
        "## Compile and train the model \n",
        "\n",
        "We know train our model. Before we do that we need to set some parameters to train the model. Hence we define the loss and optimizer to be used as well as batch size. The number of epochs refers to the number of training iterations. "
      ],
      "metadata": {
        "id": "7qepS8u7VJXF"
      }
    },
    {
      "cell_type": "code",
      "source": [
        "batch_size = 128\n",
        "epochs = 15\n",
        "\n",
        "model.compile(loss=\"categorical_crossentropy\", optimizer=\"adam\", metrics=[\"accuracy\"])\n",
        "\n",
        "model.fit(x_train, y_train, batch_size=batch_size, epochs=epochs, validation_split=0.1)\n"
      ],
      "metadata": {
        "colab": {
          "base_uri": "https://localhost:8080/"
        },
        "id": "3cwCRnA2OgPY",
        "outputId": "14e00c35-fe2a-48d1-f4b5-d73021fa9a69"
      },
      "execution_count": 5,
      "outputs": [
        {
          "output_type": "stream",
          "name": "stdout",
          "text": [
            "Epoch 1/15\n",
            "422/422 [==============================] - 5s 4ms/step - loss: 0.5419 - accuracy: 0.8644 - val_loss: 0.2664 - val_accuracy: 0.9235\n",
            "Epoch 2/15\n",
            "422/422 [==============================] - 2s 4ms/step - loss: 0.3094 - accuracy: 0.9114 - val_loss: 0.2430 - val_accuracy: 0.9292\n",
            "Epoch 3/15\n",
            "422/422 [==============================] - 2s 4ms/step - loss: 0.2870 - accuracy: 0.9187 - val_loss: 0.2330 - val_accuracy: 0.9340\n",
            "Epoch 4/15\n",
            "422/422 [==============================] - 2s 4ms/step - loss: 0.2766 - accuracy: 0.9221 - val_loss: 0.2290 - val_accuracy: 0.9382\n",
            "Epoch 5/15\n",
            "422/422 [==============================] - 2s 4ms/step - loss: 0.2708 - accuracy: 0.9237 - val_loss: 0.2312 - val_accuracy: 0.9363\n",
            "Epoch 6/15\n",
            "422/422 [==============================] - 2s 4ms/step - loss: 0.2658 - accuracy: 0.9250 - val_loss: 0.2257 - val_accuracy: 0.9385\n",
            "Epoch 7/15\n",
            "422/422 [==============================] - 2s 4ms/step - loss: 0.2630 - accuracy: 0.9265 - val_loss: 0.2254 - val_accuracy: 0.9372\n",
            "Epoch 8/15\n",
            "422/422 [==============================] - 2s 4ms/step - loss: 0.2603 - accuracy: 0.9271 - val_loss: 0.2268 - val_accuracy: 0.9373\n",
            "Epoch 9/15\n",
            "422/422 [==============================] - 2s 4ms/step - loss: 0.2564 - accuracy: 0.9292 - val_loss: 0.2294 - val_accuracy: 0.9370\n",
            "Epoch 10/15\n",
            "422/422 [==============================] - 2s 4ms/step - loss: 0.2561 - accuracy: 0.9289 - val_loss: 0.2236 - val_accuracy: 0.9390\n",
            "Epoch 11/15\n",
            "422/422 [==============================] - 2s 4ms/step - loss: 0.2530 - accuracy: 0.9289 - val_loss: 0.2301 - val_accuracy: 0.9363\n",
            "Epoch 12/15\n",
            "422/422 [==============================] - 2s 4ms/step - loss: 0.2527 - accuracy: 0.9298 - val_loss: 0.2270 - val_accuracy: 0.9372\n",
            "Epoch 13/15\n",
            "422/422 [==============================] - 2s 4ms/step - loss: 0.2500 - accuracy: 0.9302 - val_loss: 0.2276 - val_accuracy: 0.9395\n",
            "Epoch 14/15\n",
            "422/422 [==============================] - 2s 5ms/step - loss: 0.2489 - accuracy: 0.9304 - val_loss: 0.2287 - val_accuracy: 0.9380\n",
            "Epoch 15/15\n",
            "422/422 [==============================] - 2s 4ms/step - loss: 0.2486 - accuracy: 0.9305 - val_loss: 0.2282 - val_accuracy: 0.9392\n"
          ]
        },
        {
          "output_type": "execute_result",
          "data": {
            "text/plain": [
              "<keras.callbacks.History at 0x7f25f06c2550>"
            ]
          },
          "metadata": {},
          "execution_count": 5
        }
      ]
    },
    {
      "cell_type": "markdown",
      "source": [
        "## Evaluate the model "
      ],
      "metadata": {
        "id": "2IscBu-nVLw3"
      }
    },
    {
      "cell_type": "code",
      "source": [
        "score = model.evaluate(x_test, y_test, verbose=0)\n",
        "print(\"Test loss:\", score[0])\n",
        "print(\"Test accuracy:\", score[1])\n"
      ],
      "metadata": {
        "colab": {
          "base_uri": "https://localhost:8080/"
        },
        "id": "SCRqjgb_OiN7",
        "outputId": "9f82167c-9f39-47d1-e869-fbf210affb60"
      },
      "execution_count": 6,
      "outputs": [
        {
          "output_type": "stream",
          "name": "stdout",
          "text": [
            "Test loss: 0.27027428150177\n",
            "Test accuracy: 0.9276999831199646\n"
          ]
        }
      ]
    },
    {
      "cell_type": "markdown",
      "source": [
        "We achieve an accuracy on the test set of 92% but can we do better?"
      ],
      "metadata": {
        "id": "nSdY-BY5vKZb"
      }
    },
    {
      "cell_type": "markdown",
      "source": [
        "## Looking at a prediction.\n",
        "\n",
        "Lets look at the prediction for a particular image in our model. We will look at one corect and one incorrect prediction and see if we can improve on the incorrect prediction. "
      ],
      "metadata": {
        "id": "y9a6QtAJ4Xby"
      }
    },
    {
      "cell_type": "code",
      "source": [
        "def get_mnist_label(image_probs):\n",
        "\n",
        "  return np.argmax(image_probs), np.max(image_probs)"
      ],
      "metadata": {
        "id": "g3uyTJ6253Jv"
      },
      "execution_count": 7,
      "outputs": []
    },
    {
      "cell_type": "code",
      "source": [
        "preds = model.predict(x_test)\n",
        "\n",
        "image = x_test[0].reshape(input_shape[0], input_shape[1])\n",
        "label = np.argmax(y_test[0])\n",
        "image_probs = preds[0]"
      ],
      "metadata": {
        "id": "sZP5HsZO5OyY"
      },
      "execution_count": 8,
      "outputs": []
    },
    {
      "cell_type": "code",
      "source": [
        "plt.figure()\n",
        "plt.imshow(image*0.5 + 0.5)  # To change [-1, 1] to [0,1]\n",
        "image_class, class_confidence = get_mnist_label(image_probs)\n",
        "plt.title('{} : {:.2f}% Confidence'.format(image_class, class_confidence*100))\n",
        "plt.show()\n"
      ],
      "metadata": {
        "colab": {
          "base_uri": "https://localhost:8080/",
          "height": 499
        },
        "id": "AdIoM5GX5ygg",
        "outputId": "46b8c3b8-dcf4-4cac-dc53-7f497aa462ab"
      },
      "execution_count": 10,
      "outputs": [
        {
          "output_type": "display_data",
          "data": {
            "text/plain": [
              "<Figure size 576x576 with 1 Axes>"
            ],
            "image/png": "[encoded data removed]"
          },
          "metadata": {
            "needs_background": "light"
          }
        }
      ]
    },
    {
      "cell_type": "code",
      "source": [
        "# Store the incorrect prediction index here\n",
        "incorrect_index = 0\n",
        "\n",
        "for i in range(preds.shape[0]):\n",
        "\n",
        "  if np.argmax(preds[i]) != np.argmax(y_test[i]):\n",
        "\n",
        "    incorrect_index = i\n",
        "\n",
        "image_incorrect = x_test[incorrect_index].reshape(input_shape[0], input_shape[1])"
      ],
      "metadata": {
        "id": "qmmsBM_E6DUc"
      },
      "execution_count": 11,
      "outputs": []
    },
    {
      "cell_type": "code",
      "source": [
        "plt.figure()\n",
        "plt.imshow(image_incorrect*0.5 + 0.5)  # To change [-1, 1] to [0,1]\n",
        "image_class, class_confidence = get_mnist_label(preds[i])\n",
        "plt.title('{} : {:.2f}% Confidence'.format(image_class, class_confidence*100))\n",
        "plt.show()\n"
      ],
      "metadata": {
        "colab": {
          "base_uri": "https://localhost:8080/",
          "height": 499
        },
        "id": "HKsiOalv7Bsj",
        "outputId": "011a875a-f0e3-438d-e1ce-4dc647a3fb55"
      },
      "execution_count": 12,
      "outputs": [
        {
          "output_type": "display_data",
          "data": {
            "text/plain": [
              "<Figure size 576x576 with 1 Axes>"
            ],
            "image/png": "[encoded data removed]"
          },
          "metadata": {
            "needs_background": "light"
          }
        }
      ]
    },
    {
      "cell_type": "markdown",
      "source": [
        "We see that a 3 has been predicted with high confidence as a 6 does this change with our improved model below?"
      ],
      "metadata": {
        "id": "VfSIJAF57dhy"
      }
    },
    {
      "cell_type": "markdown",
      "source": [
        " # TASK 1: Improve the accuracy of the model \n",
        "\n",
        "Your goal in task one is to improve the accuracy of the model on the test set. "
      ],
      "metadata": {
        "id": "LifPv5WJvSMu"
      }
    },
    {
      "cell_type": "markdown",
      "source": [
        "For image recogniton tasks convolutional neural networks work better than most other type of architectures. Your goal is to push the test accuracy above 99% percent. \n",
        "\n",
        "The following steps will get you there. \n",
        "\n",
        "1. Convert the 1st hidden Dense layer to a conv layer with 32 filters, a filter size of 3x3 and with relu activation. (I've done this step)\n",
        "2. Add a Maxpooling layer of size 2x2. \n",
        "3. Add another Conv layer with 64 filters, with a filter size of 3x3 with relu activation. \n",
        "4. Add a Maxpooling layer of size 2x2. \n",
        "5. Add Dropout to the layer after the Flatten layer. "
      ],
      "metadata": {
        "id": "nq8pen8-wdsh"
      }
    },
    {
      "cell_type": "code",
      "source": [
        "improved_model = keras.Sequential(\n",
        "    [\n",
        "        keras.Input(shape=input_shape),\n",
        "        layers.Conv2D(32, kernel_size=(3, 3), activation=\"relu\"),\n",
        "        layers.MaxPool2D(pool_size=(2,2)),\n",
        "        layers.Conv2D(64, kernel_size=(3,3), activation=\"relu\"),\n",
        "        layers.Flatten(),\n",
        "        layers.Dropout(.5),\n",
        "        layers.Dense(num_classes, activation=\"softmax\"),\n",
        "    ]\n",
        ")\n",
        "\n",
        "improved_model.summary()\n"
      ],
      "metadata": {
        "id": "LeDUJgK2wb4l",
        "colab": {
          "base_uri": "https://localhost:8080/"
        },
        "outputId": "5c7098a8-7811-4cc7-c57a-1d8edd09cf60"
      },
      "execution_count": 16,
      "outputs": [
        {
          "output_type": "stream",
          "name": "stdout",
          "text": [
            "Model: \"sequential_3\"\n",
            "_________________________________________________________________\n",
            " Layer (type)                Output Shape              Param #   \n",
            "=================================================================\n",
            " conv2d_3 (Conv2D)           (None, 26, 26, 32)        320       \n",
            "                                                                 \n",
            " max_pooling2d_2 (MaxPooling  (None, 13, 13, 32)       0         \n",
            " 2D)                                                             \n",
            "                                                                 \n",
            " conv2d_4 (Conv2D)           (None, 11, 11, 64)        18496     \n",
            "                                                                 \n",
            " flatten_3 (Flatten)         (None, 7744)              0         \n",
            "                                                                 \n",
            " dropout (Dropout)           (None, 7744)              0         \n",
            "                                                                 \n",
            " dense_4 (Dense)             (None, 10)                77450     \n",
            "                                                                 \n",
            "=================================================================\n",
            "Total params: 96,266\n",
            "Trainable params: 96,266\n",
            "Non-trainable params: 0\n",
            "_________________________________________________________________\n"
          ]
        }
      ]
    },
    {
      "cell_type": "markdown",
      "source": [
        "## Complile and train the improved model. "
      ],
      "metadata": {
        "id": "ffzFzyOZ0UG8"
      }
    },
    {
      "cell_type": "code",
      "source": [
        "batch_size = 128\n",
        "epochs = 15\n",
        "\n",
        "improved_model.compile(loss=\"categorical_crossentropy\", optimizer=\"adam\", metrics=[\"accuracy\"])\n",
        "\n",
        "improved_model.fit(x_train, y_train, batch_size=batch_size, epochs=epochs, validation_split=0.1)\n"
      ],
      "metadata": {
        "id": "aPBhYQml1OuH",
        "colab": {
          "base_uri": "https://localhost:8080/"
        },
        "outputId": "aa5681e1-b732-4d6e-dd0b-6ad9b7899bec"
      },
      "execution_count": 17,
      "outputs": [
        {
          "output_type": "stream",
          "name": "stdout",
          "text": [
            "Epoch 1/15\n",
            "422/422 [==============================] - 12s 6ms/step - loss: 0.2547 - accuracy: 0.9244 - val_loss: 0.0710 - val_accuracy: 0.9810\n",
            "Epoch 2/15\n",
            "422/422 [==============================] - 2s 5ms/step - loss: 0.0804 - accuracy: 0.9754 - val_loss: 0.0495 - val_accuracy: 0.9877\n",
            "Epoch 3/15\n",
            "422/422 [==============================] - 2s 5ms/step - loss: 0.0606 - accuracy: 0.9813 - val_loss: 0.0431 - val_accuracy: 0.9875\n",
            "Epoch 4/15\n",
            "422/422 [==============================] - 2s 6ms/step - loss: 0.0500 - accuracy: 0.9838 - val_loss: 0.0435 - val_accuracy: 0.9878\n",
            "Epoch 5/15\n",
            "422/422 [==============================] - 2s 5ms/step - loss: 0.0426 - accuracy: 0.9869 - val_loss: 0.0378 - val_accuracy: 0.9900\n",
            "Epoch 6/15\n",
            "422/422 [==============================] - 2s 5ms/step - loss: 0.0364 - accuracy: 0.9890 - val_loss: 0.0376 - val_accuracy: 0.9900\n",
            "Epoch 7/15\n",
            "422/422 [==============================] - 2s 5ms/step - loss: 0.0326 - accuracy: 0.9894 - val_loss: 0.0328 - val_accuracy: 0.9915\n",
            "Epoch 8/15\n",
            "422/422 [==============================] - 2s 5ms/step - loss: 0.0299 - accuracy: 0.9904 - val_loss: 0.0360 - val_accuracy: 0.9907\n",
            "Epoch 9/15\n",
            "422/422 [==============================] - 2s 5ms/step - loss: 0.0273 - accuracy: 0.9911 - val_loss: 0.0347 - val_accuracy: 0.9907\n",
            "Epoch 10/15\n",
            "422/422 [==============================] - 2s 6ms/step - loss: 0.0247 - accuracy: 0.9918 - val_loss: 0.0328 - val_accuracy: 0.9902\n",
            "Epoch 11/15\n",
            "422/422 [==============================] - 2s 6ms/step - loss: 0.0228 - accuracy: 0.9925 - val_loss: 0.0311 - val_accuracy: 0.9915\n",
            "Epoch 12/15\n",
            "422/422 [==============================] - 2s 6ms/step - loss: 0.0212 - accuracy: 0.9929 - val_loss: 0.0358 - val_accuracy: 0.9915\n",
            "Epoch 13/15\n",
            "422/422 [==============================] - 2s 6ms/step - loss: 0.0187 - accuracy: 0.9939 - val_loss: 0.0382 - val_accuracy: 0.9912\n",
            "Epoch 14/15\n",
            "422/422 [==============================] - 3s 6ms/step - loss: 0.0168 - accuracy: 0.9946 - val_loss: 0.0303 - val_accuracy: 0.9927\n",
            "Epoch 15/15\n",
            "422/422 [==============================] - 3s 6ms/step - loss: 0.0167 - accuracy: 0.9944 - val_loss: 0.0327 - val_accuracy: 0.9927\n"
          ]
        },
        {
          "output_type": "execute_result",
          "data": {
            "text/plain": [
              "<keras.callbacks.History at 0x7f258a356bd0>"
            ]
          },
          "metadata": {},
          "execution_count": 17
        }
      ]
    },
    {
      "cell_type": "markdown",
      "source": [
        "## Evaluate the Improved model. \n",
        "\n",
        "You should achieve a test accuracy of greater than 99%!\n",
        "\n",
        "If not the code will throw an assertion error. "
      ],
      "metadata": {
        "id": "7a7EZNcv1r9J"
      }
    },
    {
      "cell_type": "code",
      "source": [
        "score = improved_model.evaluate(x_test, y_test, verbose=0)\n",
        "print(\"Improved Test loss:\", score[0])\n",
        "print(\"Improved Test accuracy:\", score[1])\n",
        "\n",
        "assert score[1] > 0.99"
      ],
      "metadata": {
        "id": "lYKx0TKH2P6G",
        "colab": {
          "base_uri": "https://localhost:8080/"
        },
        "outputId": "0d1f61b1-be6c-4847-c385-42de5bf633cb"
      },
      "execution_count": 18,
      "outputs": [
        {
          "output_type": "stream",
          "name": "stdout",
          "text": [
            "Improved Test loss: 0.033231087028980255\n",
            "Improved Test accuracy: 0.9904999732971191\n"
          ]
        }
      ]
    },
    {
      "cell_type": "markdown",
      "source": [
        "## Looking at a prediction.\n",
        "\n",
        "Lets look at the prediction for a particular image in our model. We will look at one corect and one incorrect prediction and see if we can improve on the incorrect prediction. \n",
        "\n",
        "Check the predictions on the improved model, do you see improvements on the incorrect sample. "
      ],
      "metadata": {
        "id": "aD885MO57xoV"
      }
    },
    {
      "cell_type": "code",
      "source": [
        "improved_preds = improved_model.predict(x_test)\n",
        "\n",
        "image = x_test[0].reshape(input_shape[0], input_shape[1])\n",
        "label = np.argmax(y_test[0])\n"
      ],
      "metadata": {
        "id": "0ozaLxNg7xoW"
      },
      "execution_count": 19,
      "outputs": []
    },
    {
      "cell_type": "code",
      "source": [
        "plt.figure()\n",
        "plt.imshow(image*0.5 + 0.5)  # To change [-1, 1] to [0,1]\n",
        "image_class, class_confidence = get_mnist_label(improved_preds[0])\n",
        "plt.title('{} : {:.2f}% Confidence'.format(image_class, class_confidence*100))\n",
        "plt.show()\n"
      ],
      "metadata": {
        "id": "y0qsS5jY7xoW",
        "colab": {
          "base_uri": "https://localhost:8080/",
          "height": 499
        },
        "outputId": "d1b7c446-c254-4eef-94d2-aa3da3ca22cd"
      },
      "execution_count": 20,
      "outputs": [
        {
          "output_type": "display_data",
          "data": {
            "text/plain": [
              "<Figure size 576x576 with 1 Axes>"
            ],
            "image/png": "[encoded data removed]"
          },
          "metadata": {
            "needs_background": "light"
          }
        }
      ]
    },
    {
      "cell_type": "code",
      "source": [
        "plt.figure()\n",
        "plt.imshow(image_incorrect*0.5 + 0.5)  # To change [-1, 1] to [0,1]\n",
        "image_class, class_confidence = get_mnist_label(improved_preds[i])\n",
        "plt.title('{} : {:.2f}% Confidence'.format(image_class, class_confidence*100))\n",
        "plt.show()\n",
        "#no improvement on the incorrect model"
      ],
      "metadata": {
        "id": "Dyj5CbQD7xoW",
        "colab": {
          "base_uri": "https://localhost:8080/",
          "height": 499
        },
        "outputId": "e0207fc8-679c-4942-c33f-4dbf34402a4b"
      },
      "execution_count": 21,
      "outputs": [
        {
          "output_type": "display_data",
          "data": {
            "text/plain": [
              "<Figure size 576x576 with 1 Axes>"
            ],
            "image/png": "[encoded data removed]"
          },
          "metadata": {
            "needs_background": "light"
          }
        }
      ]
    }
  ],
  "metadata": {
    "colab": {
      "name": "MNIST_Train_Task1.ipynb",
      "provenance": [],
      "collapsed_sections": [],
      "toc_visible": true,
      "include_colab_link": true
    },
    "kernelspec": {
      "display_name": "Python 3",
      "name": "python3"
    },
    "language_info": {
      "name": "python"
    },
    "accelerator": "GPU"
  },
  "nbformat": 4,
  "nbformat_minor": 0
}